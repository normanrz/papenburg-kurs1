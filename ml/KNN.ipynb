{
 "cells": [
  {
   "cell_type": "code",
   "execution_count": null,
   "metadata": {
    "collapsed": false
   },
   "outputs": [],
   "source": [
    "%matplotlib inline\n",
    "\n",
    "from sklearn import datasets\n",
    "from time import sleep\n",
    "import matplotlib.pyplot as plt\n",
    "from sklearn.neighbors import KNeighborsClassifier   "
   ]
  },
  {
   "cell_type": "code",
   "execution_count": null,
   "metadata": {
    "collapsed": false
   },
   "outputs": [],
   "source": [
    "# Hier sind ein paar Beispielzahlendaten\n",
    "digits = datasets.load_digits()\n",
    "plt.figure(1, figsize=(10,10))\n",
    "for x in range(20):\n",
    "  plt.subplot(4, 5, x+1)\n",
    "  plt.imshow(digits.images[x], cmap=plt.cm.gray_r, interpolation='nearest')"
   ]
  },
  {
   "cell_type": "code",
   "execution_count": null,
   "metadata": {
    "collapsed": false
   },
   "outputs": [],
   "source": [
    "# Wir holen die ersten 1000 Bilder als Trainingsdaten\n",
    "trainingDigits = digits.images[0:1000]\n",
    "# Außerdem machen wir die Bilder flach, 1000 Zeilen Daten also.\n",
    "trainingDigitsFlat = trainingDigits.reshape(1000, -1)\n",
    "trainingLabels = digits.target[0:1000]\n",
    "\n",
    "# Wir packen alle Nachbarn in den Klassifikator.\n",
    "knn = KNeighborsClassifier(n_neighbors=3, algorithm='kd_tree').fit(trainingDigitsFlat, trainingLabels)\n",
    "\n",
    "# Nun können wir einfach mal 10 Zahlen erkennen\n",
    "plt.figure(2, figsize=(16,2))   \n",
    "for x in range (1200, 1210):\n",
    "    plt.subplot(1,10,x-1200+1)\n",
    "    plt.imshow(digits.images[x], cmap=plt.cm.gray_r, interpolation='nearest')\n",
    "    print knn.predict(digits.images[x].reshape(1,-1)),\n",
    "   "
   ]
  },
  {
   "cell_type": "code",
   "execution_count": null,
   "metadata": {
    "collapsed": true
   },
   "outputs": [],
   "source": []
  },
  {
   "cell_type": "code",
   "execution_count": null,
   "metadata": {
    "collapsed": true
   },
   "outputs": [],
   "source": []
  }
 ],
 "metadata": {
  "kernelspec": {
   "display_name": "Python 2",
   "language": "python",
   "name": "python2"
  },
  "language_info": {
   "codemirror_mode": {
    "name": "ipython",
    "version": 2
   },
   "file_extension": ".py",
   "mimetype": "text/x-python",
   "name": "python",
   "nbconvert_exporter": "python",
   "pygments_lexer": "ipython2",
   "version": "2.7.9"
  }
 },
 "nbformat": 4,
 "nbformat_minor": 0
}
