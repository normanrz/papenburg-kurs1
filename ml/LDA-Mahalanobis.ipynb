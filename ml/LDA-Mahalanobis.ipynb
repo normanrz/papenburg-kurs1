{
 "cells": [
  {
   "cell_type": "code",
   "execution_count": 269,
   "metadata": {
    "collapsed": true
   },
   "outputs": [],
   "source": [
    "%matplotlib inline\n",
    "import numpy as np\n",
    "import matplotlib.pyplot as plt\n",
    "from sklearn.datasets import load_iris\n",
    "from sklearn.lda import LDA\n",
    "from sklearn.metrics import confusion_matrix, precision_score, recall_score, accuracy_score\n",
    "import math\n",
    "import scipy.linalg\n",
    "import scipy.spatial.distance"
   ]
  },
  {
   "cell_type": "code",
   "execution_count": 270,
   "metadata": {
    "collapsed": false
   },
   "outputs": [],
   "source": [
    "# Load dataset\n",
    "iris = load_iris()"
   ]
  },
  {
   "cell_type": "code",
   "execution_count": 271,
   "metadata": {
    "collapsed": true
   },
   "outputs": [],
   "source": [
    "def splitTrainTest(X, y, ratio=0.2):\n",
    "    n = X.shape[0]\n",
    "    idx = np.random.permutation(n)\n",
    "    testIdx = idx[:math.floor(n*0.2)]\n",
    "    trainIdx = idx[math.floor(n*0.2):]\n",
    "    testX = X[testIdx, :]\n",
    "    testY = y[testIdx]\n",
    "    trainX = X[trainIdx, :]\n",
    "    trainY = y[trainIdx]\n",
    "    return (trainX, trainY), (testX, testY)"
   ]
  },
  {
   "cell_type": "code",
   "execution_count": 272,
   "metadata": {
    "collapsed": false
   },
   "outputs": [
    {
     "name": "stdout",
     "output_type": "stream",
     "text": [
      "(120, 4) (30, 4)\n"
     ]
    },
    {
     "data": {
      "image/png": "[encoded data removed]",
      "text/plain": [
       "<matplotlib.figure.Figure at 0x11ad1b110>"
      ]
     },
     "metadata": {},
     "output_type": "display_data"
    }
   ],
   "source": [
    "# Split train/test set\n",
    "(trainX, trainY), (testX, testY) = splitTrainTest(iris.data, iris.target, 0.5)\n",
    "\n",
    "print trainX.shape, testX.shape\n",
    "\n",
    "# Plot 2 features\n",
    "plt.scatter(trainX[trainY == 0, 2], trainX[trainY == 0, 3], color=\"blue\")\n",
    "plt.scatter(trainX[trainY == 1, 2], trainX[trainY == 1, 3], color=\"green\")\n",
    "plt.scatter(trainX[trainY == 2, 2], trainX[trainY == 2, 3], color=\"red\")\n",
    "\n",
    "plt.axes().set_aspect('equal')\n",
    "\n",
    "plt.show()"
   ]
  },
  {
   "cell_type": "code",
   "execution_count": 273,
   "metadata": {
    "collapsed": false
   },
   "outputs": [
    {
     "name": "stdout",
     "output_type": "stream",
     "text": [
      "[[ 6  0  0]\n",
      " [ 0 11  1]\n",
      " [ 0  0 12]]\n"
     ]
    }
   ],
   "source": [
    "# Train classifier\n",
    "lda = LDA(solver=\"svd\")\n",
    "lda.fit(trainX, trainY)\n",
    "\n",
    "testYPredicted = lda.predict(testX)\n",
    "\n",
    "# Print confusion matrix\n",
    "print(confusion_matrix(testY, testYPredicted))\n",
    "# plt.imshow(confusion_matrix(testY, testYPredicted), interpolation='nearest')"
   ]
  },
  {
   "cell_type": "code",
   "execution_count": 274,
   "metadata": {
    "collapsed": false
   },
   "outputs": [
    {
     "data": {
      "image/png": "[encoded data removed]",
      "text/plain": [
       "<matplotlib.figure.Figure at 0x11a4da490>"
      ]
     },
     "metadata": {},
     "output_type": "display_data"
    }
   ],
   "source": [
    "# Generate 2 gaussian datasets\n",
    "n, dim = 300, 2\n",
    "\n",
    "c0 = np.array([[0., -1.], [2.5, .7]])\n",
    "c1 = c0.T\n",
    "\n",
    "m0 = (0, 5)\n",
    "m1 = (0, 0)\n",
    "\n",
    "X = np.vstack((np.random.multivariate_normal(m0, c0, n), \n",
    "               np.random.multivariate_normal(m1, c1, n)))\n",
    "y = np.hstack((np.zeros(n), np.ones(n)))\n",
    "\n",
    "\n",
    "# Plot generated datasets\n",
    "plt.scatter(X[y == 0, 0], X[y == 0, 1], color=\"blue\")\n",
    "plt.scatter(X[y == 1, 0], X[y == 1, 1], color=\"green\")\n",
    "\n",
    "plt.axes().set_aspect('equal')\n",
    "\n",
    "plt.show()"
   ]
  },
  {
   "cell_type": "code",
   "execution_count": 289,
   "metadata": {
    "collapsed": false
   },
   "outputs": [
    {
     "name": "stdout",
     "output_type": "stream",
     "text": [
      "[-0.96795092  6.21615441]\n",
      "0.984198551685\n",
      "1.96786675331\n"
     ]
    }
   ],
   "source": [
    "# Show Mahalanobis based classification\n",
    "sample = np.random.multivariate_normal(m0, c0)\n",
    "\n",
    "print sample\n",
    "\n",
    "print scipy.spatial.distance.mahalanobis(sample, m0, scipy.linalg.pinv(c0))\n",
    "print scipy.spatial.distance.mahalanobis(sample, m1, scipy.linalg.pinv(c1))"
   ]
  },
  {
   "cell_type": "code",
   "execution_count": null,
   "metadata": {
    "collapsed": true
   },
   "outputs": [],
   "source": []
  },
  {
   "cell_type": "code",
   "execution_count": null,
   "metadata": {
    "collapsed": true
   },
   "outputs": [],
   "source": []
  }
 ],
 "metadata": {
  "kernelspec": {
   "display_name": "Python 2",
   "language": "python",
   "name": "python2"
  },
  "language_info": {
   "codemirror_mode": {
    "name": "ipython",
    "version": 2
   },
   "file_extension": ".py",
   "mimetype": "text/x-python",
   "name": "python",
   "nbconvert_exporter": "python",
   "pygments_lexer": "ipython2",
   "version": "2.7.9"
  }
 },
 "nbformat": 4,
 "nbformat_minor": 0
}
